{
 "cells": [
  {
   "cell_type": "code",
   "execution_count": 116,
   "metadata": {},
   "outputs": [],
   "source": [
    "# coding: utf-8\n",
    "import time\n",
    "import tensorflow as tf\n",
    "import matplotlib.pyplot as plt\n",
    "from datetime import datetime\n",
    "from functools import partial\n",
    "from keras.utils.np_utils import to_categorical\n",
    "from tensorflow.examples.tutorials.mnist import input_data"
   ]
  },
  {
   "cell_type": "code",
   "execution_count": 117,
   "metadata": {},
   "outputs": [
    {
     "name": "stdout",
     "output_type": "stream",
     "text": [
      "Extracting ../MNIST_data/train-images-idx3-ubyte.gz\n",
      "Extracting ../MNIST_data/train-labels-idx1-ubyte.gz\n",
      "Extracting ../MNIST_data/t10k-images-idx3-ubyte.gz\n",
      "Extracting ../MNIST_data/t10k-labels-idx1-ubyte.gz\n"
     ]
    }
   ],
   "source": [
    "mnist = input_data.read_data_sets(\"../MNIST_data/\")"
   ]
  },
  {
   "cell_type": "code",
   "execution_count": 118,
   "metadata": {},
   "outputs": [],
   "source": [
    "X_train1 = mnist.train.images[mnist.train.labels < 5]\n",
    "y_train1 = mnist.train.labels[mnist.train.labels < 5]\n",
    "X_valid1 = mnist.validation.images[mnist.validation.labels < 5]\n",
    "y_valid1 = mnist.validation.labels[mnist.validation.labels < 5]\n",
    "X_test1 = mnist.test.images[mnist.test.labels < 5]\n",
    "y_test1 = mnist.test.labels[mnist.test.labels < 5]\n",
    "y_train1 = to_categorical(y_train1, num_classes=5)\n",
    "y_valid1 = to_categorical(y_valid1, num_classes=5)\n",
    "y_test1 = to_categorical(y_test1, num_classes=5)"
   ]
  },
  {
   "cell_type": "code",
   "execution_count": 119,
   "metadata": {},
   "outputs": [],
   "source": [
    "def init_input():\n",
    "    with tf.name_scope('input'):\n",
    "        X = tf.placeholder('float', [None, 784], name='input_x')\n",
    "        y = tf.placeholder('float', [None, 5], name='label_y')\n",
    "    return X, y"
   ]
  },
  {
   "cell_type": "code",
   "execution_count": 120,
   "metadata": {},
   "outputs": [],
   "source": [
    "def add_layer(input_dim, output_dim, inputs, name, keep_prob, activation_function=None):\n",
    "    name_W = 'W_' + name\n",
    "    name_b = 'b_' + name\n",
    "    \n",
    "    with tf.name_scope(name):\n",
    "        with tf.name_scope('weight'):\n",
    "            W = tf.get_variable(shape=[input_dim, output_dim], initializer=tf.contrib.keras.initializers.he_normal(), name=name_W)\n",
    "            tf.summary.histogram(name + '/weight', W)\n",
    "        with tf.name_scope('bias'):\n",
    "            b = tf.Variable(tf.constant(0.1, shape=[1, output_dim]), name=name_b)\n",
    "            tf.summary.histogram(name + '/bias', b)\n",
    "        with tf.name_scope('Wx_plus_b'):\n",
    "            Wx_plus_b = tf.add(tf.matmul(inputs, W), b)\n",
    "            Wx_plus_b = tf.nn.dropout(Wx_plus_b, keep_prob)\n",
    "        if activation_function is None:\n",
    "            outputs = Wx_plus_b\n",
    "        else:\n",
    "            outputs = activation_function(Wx_plus_b)\n",
    "        tf.summary.histogram(name + '/output', outputs)\n",
    "        return outputs"
   ]
  },
  {
   "cell_type": "code",
   "execution_count": 121,
   "metadata": {},
   "outputs": [],
   "source": [
    "def build_network(X, n, activation, keep_prob, batch_normalization=False):\n",
    "    h1 = add_layer(input_dim=784, output_dim=n, inputs=X, name='hidden_layer_1', keep_prob=keep_prob, activation_function=activation)\n",
    "    if batch_normalization:\n",
    "        h1 = tf.layers.batch_normalization(h1)\n",
    "        \n",
    "    h2 = add_layer(input_dim=n, output_dim=n, inputs=h1, name='hidden_layer_2', keep_prob=keep_prob, activation_function=activation)\n",
    "    if batch_normalization:\n",
    "        h2 = tf.contrib.layers.batch_norm(h2, center=True, scale=True, is_training=True)\n",
    "        \n",
    "    h3 = add_layer(input_dim=n, output_dim=n, inputs=h2, name='hidden_layer_3', keep_prob=keep_prob, activation_function=activation)\n",
    "    if batch_normalization:\n",
    "        h3 = tf.contrib.layers.batch_norm(h3, center=True, scale=True, is_training=True)\n",
    "\n",
    "    h4 = add_layer(input_dim=n, output_dim=n, inputs=h3, name='hidden_layer_4', keep_prob=keep_prob, activation_function=activation)\n",
    "    if batch_normalization:\n",
    "        h4 = tf.contrib.layers.batch_norm(h4, center=True, scale=True, is_training=True)\n",
    "\n",
    "    h5 = add_layer(input_dim=n, output_dim=n, inputs=h4, name='hidden_layer_5', keep_prob=1.0, activation_function=activation)\n",
    "    if batch_normalization:\n",
    "        h5 = tf.contrib.layers.batch_norm(h5, center=True, scale=True, is_training=True)\n",
    "        \n",
    "    y_hat = add_layer(input_dim=n, output_dim=5, inputs=h5, name='output_layer', keep_prob=1.0, activation_function=tf.nn.softmax)\n",
    "    return y_hat"
   ]
  },
  {
   "cell_type": "code",
   "execution_count": 122,
   "metadata": {},
   "outputs": [],
   "source": [
    "def init_evaluation(y, y_hat, learning_rate):\n",
    "    with tf.name_scope('cross_entropy'):\n",
    "        loss_function = tf.reduce_mean(tf.nn.softmax_cross_entropy_with_logits_v2(labels=y, logits=y_hat))\n",
    "    tf.summary.scalar('cross_entropy', loss_function)\n",
    "\n",
    "    with tf.name_scope('train'):\n",
    "        optimizer = tf.train.GradientDescentOptimizer(learning_rate=learning_rate).minimize(loss_function)\n",
    "\n",
    "    with tf.name_scope('accuracy'):\n",
    "        with tf.name_scope('correction_prediction'):\n",
    "            correct_prediction_count = tf.equal(tf.argmax(y, 1), tf.argmax(y_hat, 1))\n",
    "        with tf.name_scope('accuracy'):\n",
    "            acc = tf.reduce_mean(tf.cast(correct_prediction_count, 'float'))\n",
    "    tf.summary.scalar('accuracy', acc)\n",
    "    \n",
    "    return loss_function, optimizer, acc"
   ]
  },
  {
   "cell_type": "code",
   "execution_count": 123,
   "metadata": {},
   "outputs": [],
   "source": [
    "def DNN(epoch, n_neurons, learning_rate, activation, batch_size, early_stopping, keep_prob=1.0, batch_normalization=False, restore_model_name=None):\n",
    "    tf.reset_default_graph()\n",
    "    \n",
    "    training_id = '[n_neurons_%d, learning_rate_%.4f, activation_%s, batch_size_%d, keep_prob_%s]' % (n_neurons, learning_rate, activation, batch_size, keep_prob)\n",
    "    print(training_id)\n",
    "    training_id += \"-\" + datetime.utcnow().strftime(\"%Y%m%d%H%M%S\")\n",
    "    logdir = \"tf_logs/{}/\".format(training_id)\n",
    "    \n",
    "    X, y = init_input()\n",
    "    y_hat = build_network(X, n_neurons, activation, keep_prob, batch_normalization=batch_normalization)\n",
    "    loss_function, optimizer, acc = init_evaluation(y, y_hat, learning_rate)\n",
    "    \n",
    "    batch = int(mnist.train.num_examples / batch_size)\n",
    "\n",
    "    vali_loss_list = []\n",
    "    vali_acc_list = []\n",
    "    train_acc_list = []\n",
    "    n = 0\n",
    "    \n",
    "    saver = tf.train.Saver()\n",
    "    start_epoch = 0\n",
    "    \n",
    "    with tf.Session() as sess:\n",
    "        if restore_model_name:\n",
    "            saver.restore(sess, \"regular_train/\" + restore_model_name)\n",
    "            start_epoch = int(restore_model_name.split('.')[0].split('_')[-1])\n",
    "        else:\n",
    "            sess.run(tf.global_variables_initializer())\n",
    "            \n",
    "        merged = tf.summary.merge_all()    \n",
    "        writer = tf.summary.FileWriter(logdir, sess.graph)\n",
    "        \n",
    "        for i in range(start_epoch, epoch):\n",
    "            for j in range(batch):\n",
    "                batch_x = X_train1[j * batch_size : (j + 1) * batch_size]\n",
    "                batch_y = y_train1[j * batch_size : (j + 1) * batch_size]\n",
    "                sess.run(optimizer, feed_dict={X: batch_x, y: batch_y})\n",
    "                \n",
    "            result = sess.run(merged, feed_dict={X: X_valid1, y: y_valid1})\n",
    "            writer.add_summary(result, i + 1)\n",
    "\n",
    "            vali_loss = sess.run(loss_function, feed_dict={X: X_valid1, y: y_valid1})\n",
    "            vali_acc = sess.run(acc, feed_dict={X: X_valid1, y: y_valid1})\n",
    "            train_acc = sess.run(acc, feed_dict={X: X_train1, y:y_train1})\n",
    "            \n",
    "            vali_loss_list.append(vali_loss)\n",
    "            vali_acc_list.append(vali_acc)\n",
    "            train_acc_list.append(train_acc)\n",
    "            \n",
    "            file_name = 'regular_training_epoch_%d.ckpt' % (i+1)\n",
    "            save_path = saver.save(sess, \"regular_train/%s/%s\" % (training_id, file_name))\n",
    "            best_vali_acc = max(vali_acc_list)\n",
    "            best_vali_loss = min(vali_loss_list)\n",
    "            \n",
    "            print(\"Epoch: %2d, Train acc: %.4f, Validation acc: %.4f\" % (i+1, train_acc, vali_acc))    \n",
    "            n = n + 1 if vali_acc < best_vali_acc else 0\n",
    "                \n",
    "            if n > early_stopping:\n",
    "                print('Early Stopping at epoch %d' % i)\n",
    "                break\n",
    "        \n",
    "        file_name = 'final_model'\n",
    "        save_path = saver.save(sess, \"regular_train/%s/%s\" %(training_id, file_name))\n",
    "        print(\"Model saved in path: %s\" % save_path)\n",
    "        \n",
    "        train_acc = sess.run(acc, feed_dict={X: X_train1, y:y_train1})\n",
    "        test_acc = sess.run(acc, feed_dict={X: X_test1, y: y_test1})\n",
    "        print(\"Final: Train acc: %.4f, Test acc: %.4f, Difference: %.4f\" % (train_acc, test_acc, train_acc - test_acc))\n",
    "        return train_acc_list, vali_acc_list"
   ]
  },
  {
   "cell_type": "code",
   "execution_count": 124,
   "metadata": {},
   "outputs": [],
   "source": [
    "def show_train_history(train_acc, vali_acc, keep_prob):\n",
    "    plt.plot(train_acc)\n",
    "    plt.plot(vali_acc)\n",
    "    plt.title('Train history, keep_prob=%.3f' % keep_prob)\n",
    "    plt.ylabel('Accuracy')\n",
    "    plt.xlabel('epoch')\n",
    "    plt.legend(['train', 'validation'], loc='upper left')\n",
    "    plt.show()"
   ]
  },
  {
   "cell_type": "code",
   "execution_count": null,
   "metadata": {},
   "outputs": [
    {
     "name": "stdout",
     "output_type": "stream",
     "text": [
      "[n_neurons_100, learning_rate_0.1000, activation_<function relu at 0x11533c6a8>, batch_size_100, keep_prob_1.0]\n",
      "Epoch:  1, Train acc: 0.9794, Validation acc: 0.9738\n"
     ]
    }
   ],
   "source": [
    "t1, v1 = DNN(epoch=30, n_neurons=100, learning_rate=0.1, activation=tf.nn.relu, batch_size=100, early_stopping=10, keep_prob=1.0, batch_normalization=True)\n",
    "t2, v2 = DNN(epoch=30, n_neurons=100, learning_rate=0.1, activation=tf.nn.relu, batch_size=100, early_stopping=10, keep_prob=0.9, batch_normalization=True)\n",
    "t3, v3 = DNN(epoch=30, n_neurons=100, learning_rate=0.1, activation=tf.nn.relu, batch_size=100, early_stopping=10, keep_prob=0.7, batch_normalization=True)"
   ]
  },
  {
   "cell_type": "code",
   "execution_count": null,
   "metadata": {},
   "outputs": [],
   "source": [
    "show_train_history(t1, v1, 1.0)\n",
    "show_train_history(t2, v2, 0.9)\n",
    "show_train_history(t3, v3, 0.7)"
   ]
  },
  {
   "cell_type": "code",
   "execution_count": null,
   "metadata": {},
   "outputs": [],
   "source": [
    "%save MNIST_dropout.py 116-126"
   ]
  },
  {
   "cell_type": "code",
   "execution_count": null,
   "metadata": {},
   "outputs": [],
   "source": []
  }
 ],
 "metadata": {
  "kernelspec": {
   "display_name": "Python 3",
   "language": "python",
   "name": "python3"
  },
  "language_info": {
   "codemirror_mode": {
    "name": "ipython",
    "version": 3
   },
   "file_extension": ".py",
   "mimetype": "text/x-python",
   "name": "python",
   "nbconvert_exporter": "python",
   "pygments_lexer": "ipython3",
   "version": "3.6.0"
  }
 },
 "nbformat": 4,
 "nbformat_minor": 2
}
