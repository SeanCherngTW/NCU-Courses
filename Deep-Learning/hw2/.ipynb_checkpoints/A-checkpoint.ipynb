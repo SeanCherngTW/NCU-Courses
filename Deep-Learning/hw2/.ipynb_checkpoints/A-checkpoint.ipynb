{
 "cells": [
  {
   "cell_type": "code",
   "execution_count": 1,
   "metadata": {},
   "outputs": [],
   "source": [
    "# coding: utf-8\n",
    "import time\n",
    "import tensorflow as tf\n",
    "import tensorflow.examples.tutorials.mnist.input_data as input_data\n",
    "import matplotlib.pyplot as plt"
   ]
  },
  {
   "cell_type": "code",
   "execution_count": 2,
   "metadata": {},
   "outputs": [
    {
     "name": "stdout",
     "output_type": "stream",
     "text": [
      "Extracting MNIST_data/train-images-idx3-ubyte.gz\n",
      "Extracting MNIST_data/train-labels-idx1-ubyte.gz\n",
      "Extracting MNIST_data/t10k-images-idx3-ubyte.gz\n",
      "Extracting MNIST_data/t10k-labels-idx1-ubyte.gz\n"
     ]
    }
   ],
   "source": [
    "mnist = input_data.read_data_sets(\"../MNIST_data/\", one_hot=True)"
   ]
  },
  {
   "cell_type": "code",
   "execution_count": 11,
   "metadata": {},
   "outputs": [],
   "source": [
    "def add_layer(input_dim, output_dim, inputs, name, activation_function=None):\n",
    "    name_W = 'W_' + name\n",
    "    name_b = 'b_' + name\n",
    "    \n",
    "    with tf.name_scope(name):\n",
    "        with tf.name_scope('weight'):\n",
    "            W = tf.get_variable(shape=[input_dim, output_dim], initializer=tf.contrib.keras.initializers.he_normal(), name=name_W)\n",
    "#             tf.summary.histogram(name + '/weight', W)\n",
    "        with tf.name_scope('bias'):\n",
    "            b = tf.Variable(tf.constant(0.1, shape=[1, output_dim]), name=name_b)\n",
    "#             tf.summary.histogram(name + '/bias', b)\n",
    "        with tf.name_scope('Wx_plus_b'):\n",
    "            Wx_plus_b = tf.add(tf.matmul(inputs, W), b)\n",
    "        if activation_function is None:\n",
    "            outputs = Wx_plus_b\n",
    "        else:\n",
    "            outputs = activation_function(Wx_plus_b)\n",
    "#         tf.summary.histogram(name + '/output', outputs)\n",
    "        return outputs"
   ]
  },
  {
   "cell_type": "code",
   "execution_count": 36,
   "metadata": {},
   "outputs": [],
   "source": [
    "def DNN(epoch, learning_rate, batch_size):\n",
    "    tf.reset_default_graph()\n",
    "    \n",
    "    training_id = \"[epoch_{}][lr_{}][bs_{}]\".format(epoch, learning_rate, batch_size)\n",
    "    logdir = \"tf_logs/{}/\".format(training_id)\n",
    "\n",
    "    with tf.name_scope('input'):\n",
    "        X = tf.placeholder('float', [None, 784], name='input_x')\n",
    "        y = tf.placeholder('float', [None, 10], name='label_y')\n",
    "        \n",
    "    h1 = add_layer(input_dim=784, output_dim=100, inputs=X, name='hidden_layer_1', activation_function=tf.nn.elu)\n",
    "    h2 = add_layer(input_dim=100, output_dim=100, inputs=h1, name='hidden_layer_2', activation_function=tf.nn.elu)\n",
    "    h3 = add_layer(input_dim=100, output_dim=100, inputs=h2, name='hidden_layer_3', activation_function=tf.nn.elu)\n",
    "    h4 = add_layer(input_dim=100, output_dim=100, inputs=h3, name='hidden_layer_4', activation_function=tf.nn.elu)\n",
    "    h5 = add_layer(input_dim=100, output_dim=100, inputs=h4, name='hidden_layer_5', activation_function=tf.nn.elu)\n",
    "    y_hat = add_layer(input_dim=100, output_dim=10, inputs=h5, name='output_layer', activation_function=tf.nn.softmax)\n",
    "    \n",
    "    with tf.name_scope('cross_entropy'):\n",
    "#         loss_function = -tf.reduce_sum(y * tf.log(y_hat))\n",
    "        loss_function = tf.reduce_sum(tf.nn.softmax_cross_entropy_with_logits(labels=y, logits=y_hat, name='cross_entropy'))\n",
    "        tf.summary.scalar('cross_entropy', loss_function)\n",
    "\n",
    "    with tf.name_scope('train'):\n",
    "        optimizer = tf.train.GradientDescentOptimizer(learning_rate=learning_rate).minimize(loss_function)\n",
    "\n",
    "    with tf.name_scope('accuracy'):\n",
    "        with tf.name_scope('correction_prediction'):\n",
    "            correct_prediction_count = tf.equal(tf.argmax(y, 1), tf.argmax(y_hat, 1))\n",
    "        with tf.name_scope('accuracy'):\n",
    "            acc = tf.reduce_mean(tf.cast(correct_prediction_count, 'float'))\n",
    "    tf.summary.scalar('accuracy', acc)\n",
    "    \n",
    "    batch = int(mnist.train.num_examples / batch_size)\n",
    "\n",
    "    vali_loss_list = []\n",
    "    vali_acc_list = []\n",
    "\n",
    "    with tf.Session() as sess:\n",
    "        sess.run(tf.global_variables_initializer())\n",
    "            \n",
    "        merged = tf.summary.merge_all()    \n",
    "        writer = tf.summary.FileWriter(logdir, sess.graph)\n",
    "        for i in range(epoch):\n",
    "            for _ in range(batch):\n",
    "                batch_x, batch_y = mnist.train.next_batch(batch_size)\n",
    "                sess.run(optimizer, feed_dict={X: batch_x, y: batch_y})\n",
    "                \n",
    "            result = sess.run(merged, feed_dict={X: mnist.test.images, y: mnist.test.labels})\n",
    "            writer.add_summary(result, epoch + 1)\n",
    "\n",
    "            vali_loss = sess.run(loss_function, feed_dict={X: mnist.test.images, y: mnist.test.labels})\n",
    "            vali_acc = sess.run(acc, feed_dict={X: mnist.test.images, y: mnist.test.labels})\n",
    "\n",
    "            vali_loss_list.append(vali_loss)\n",
    "            vali_acc_list.append(vali_acc)\n",
    "\n",
    "            print(\"Epoch: %2d, Validation loss: %9.4f, Best loss:%9.4f, Accuracy: %.4f\" % (i+1, vali_loss, min(vali_loss_list), vali_acc))    "
   ]
  },
  {
   "cell_type": "code",
   "execution_count": 37,
   "metadata": {},
   "outputs": [
    {
     "name": "stdout",
     "output_type": "stream",
     "text": [
      "Epoch:  1, Validation loss: 15411.0156, Best loss:15411.0156, Accuracy: 0.9220\n",
      "Epoch:  2, Validation loss: 15238.6299, Best loss:15238.6299, Accuracy: 0.9396\n",
      "Epoch:  3, Validation loss: 15091.6064, Best loss:15091.6064, Accuracy: 0.9532\n",
      "Epoch:  4, Validation loss: 15107.5635, Best loss:15091.6064, Accuracy: 0.9504\n",
      "Epoch:  5, Validation loss: 15050.8906, Best loss:15050.8906, Accuracy: 0.9558\n",
      "Epoch:  6, Validation loss: 15065.4385, Best loss:15050.8906, Accuracy: 0.9552\n",
      "Epoch:  7, Validation loss: 15014.4551, Best loss:15014.4551, Accuracy: 0.9601\n",
      "Epoch:  8, Validation loss: 14980.1348, Best loss:14980.1348, Accuracy: 0.9637\n",
      "Epoch:  9, Validation loss: 14989.6025, Best loss:14980.1348, Accuracy: 0.9617\n",
      "Epoch: 10, Validation loss: 14958.4062, Best loss:14958.4062, Accuracy: 0.9652\n",
      "Epoch: 11, Validation loss: 14995.7246, Best loss:14958.4062, Accuracy: 0.9615\n",
      "Epoch: 12, Validation loss: 14994.3867, Best loss:14958.4062, Accuracy: 0.9619\n",
      "Epoch: 13, Validation loss: 14997.2168, Best loss:14958.4062, Accuracy: 0.9613\n",
      "Epoch: 14, Validation loss: 14983.2207, Best loss:14958.4062, Accuracy: 0.9628\n",
      "Epoch: 15, Validation loss: 15024.3975, Best loss:14958.4062, Accuracy: 0.9583\n",
      "Epoch: 16, Validation loss: 14951.3721, Best loss:14951.3721, Accuracy: 0.9660\n",
      "Epoch: 17, Validation loss: 14970.4287, Best loss:14951.3721, Accuracy: 0.9640\n",
      "Epoch: 18, Validation loss: 14962.3057, Best loss:14951.3721, Accuracy: 0.9651\n",
      "Epoch: 19, Validation loss: 14956.9023, Best loss:14951.3721, Accuracy: 0.9657\n",
      "Epoch: 20, Validation loss: 15032.1582, Best loss:14951.3721, Accuracy: 0.9578\n"
     ]
    }
   ],
   "source": [
    "DNN(epoch=20, learning_rate=0.001, batch_size=150)"
   ]
  },
  {
   "cell_type": "code",
   "execution_count": null,
   "metadata": {},
   "outputs": [],
   "source": []
  }
 ],
 "metadata": {
  "kernelspec": {
   "display_name": "Python 3",
   "language": "python",
   "name": "python3"
  },
  "language_info": {
   "codemirror_mode": {
    "name": "ipython",
    "version": 3
   },
   "file_extension": ".py",
   "mimetype": "text/x-python",
   "name": "python",
   "nbconvert_exporter": "python",
   "pygments_lexer": "ipython3",
   "version": "3.6.0"
  }
 },
 "nbformat": 4,
 "nbformat_minor": 2
}
