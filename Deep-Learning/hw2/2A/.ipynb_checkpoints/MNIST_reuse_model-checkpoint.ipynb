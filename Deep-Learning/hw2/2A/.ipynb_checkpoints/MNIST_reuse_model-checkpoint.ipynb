{
 "cells": [
  {
   "cell_type": "code",
   "execution_count": 40,
   "metadata": {},
   "outputs": [],
   "source": [
    "# coding: utf-8\n",
    "import tensorflow as tf\n",
    "from keras.utils.np_utils import to_categorical\n",
    "from tensorflow.examples.tutorials.mnist import input_data"
   ]
  },
  {
   "cell_type": "code",
   "execution_count": 41,
   "metadata": {},
   "outputs": [
    {
     "name": "stdout",
     "output_type": "stream",
     "text": [
      "Extracting ../MNIST_data/train-images-idx3-ubyte.gz\n",
      "Extracting ../MNIST_data/train-labels-idx1-ubyte.gz\n",
      "Extracting ../MNIST_data/t10k-images-idx3-ubyte.gz\n",
      "Extracting ../MNIST_data/t10k-labels-idx1-ubyte.gz\n"
     ]
    }
   ],
   "source": [
    "mnist = input_data.read_data_sets(\"../MNIST_data/\")\n",
    "X_test1 = mnist.test.images[mnist.test.labels < 5]\n",
    "y_test1 = mnist.test.labels[mnist.test.labels < 5]\n",
    "y_test1 = to_categorical(y_test1, num_classes=5)"
   ]
  },
  {
   "cell_type": "code",
   "execution_count": 42,
   "metadata": {},
   "outputs": [],
   "source": [
    "def DNN(epoch, n_neurons, learning_rate, activation, batch_size, early_stopping, keep_prob=1.0, batch_normalization=False, restore_model_name=None):        \n",
    "    restore_saver = tf.train.import_meta_graph(\"./previous_model/final_model.ckpt.meta\")\n",
    "    \n",
    "    # Freeze all layers except output_layer\n",
    "    train_vars = tf.get_collection(tf.GraphKeys.TRAINABLE_VARIABLES, scope=\"output_layer\")\n",
    "\n",
    "    # For evaluation\n",
    "    X = tf.get_default_graph().get_tensor_by_name(\"input/input_x:0\")\n",
    "    y = tf.get_default_graph().get_tensor_by_name(\"input/label_y:0\")\n",
    "    acc = tf.get_default_graph().get_tensor_by_name(\"accuracy/accuracy:0\")\n",
    "\n",
    "    # Train the output layer only\n",
    "    loss = tf.get_default_graph().get_tensor_by_name(\"cross_entropy/cross_entropy:0\")\n",
    "    y_hat = tf.get_default_graph().get_tensor_by_name(\"output_layer/output_layer/output:0\")\n",
    "    optimizer = tf.train.GradientDescentOptimizer(learning_rate)\n",
    "    training_op = optimizer.minimize(loss, var_list=train_vars)\n",
    "\n",
    "    with tf.Session() as sess:\n",
    "        sess.run(tf.global_variables_initializer())\n",
    "        restore_saver.restore(sess, \"./previous_model/final_model.ckpt\")\n",
    "        vali_acc = sess.run(acc, feed_dict={X: X_test1, y: y_test1})\n",
    "        print(\"Test accuracy from restored model: %.4f\" % vali_acc)"
   ]
  },
  {
   "cell_type": "code",
   "execution_count": 43,
   "metadata": {},
   "outputs": [
    {
     "name": "stdout",
     "output_type": "stream",
     "text": [
      "INFO:tensorflow:Restoring parameters from ./previous_model/final_model.ckpt\n",
      "Test accuracy from restored model: 0.9895\n"
     ]
    }
   ],
   "source": [
    "DNN(epoch=10, n_neurons=100, learning_rate=0.1, activation=tf.nn.relu, batch_size=100, early_stopping=10, keep_prob=1.00, batch_normalization=True)"
   ]
  },
  {
   "cell_type": "code",
   "execution_count": 44,
   "metadata": {},
   "outputs": [
    {
     "name": "stdout",
     "output_type": "stream",
     "text": [
      "The following commands were written to file `MNIST_reuse_model.py`:\n",
      "\n",
      "import tensorflow as tf\n",
      "from keras.utils.np_utils import to_categorical\n",
      "from tensorflow.examples.tutorials.mnist import input_data\n",
      "mnist = input_data.read_data_sets(\"../MNIST_data/\")\n",
      "X_test1 = mnist.test.images[mnist.test.labels < 5]\n",
      "y_test1 = mnist.test.labels[mnist.test.labels < 5]\n",
      "y_test1 = to_categorical(y_test1, num_classes=5)\n",
      "def DNN(epoch, n_neurons, learning_rate, activation, batch_size, early_stopping, keep_prob=1.0, batch_normalization=False, restore_model_name=None):        \n",
      "    restore_saver = tf.train.import_meta_graph(\"./previous_model/final_model.ckpt.meta\")\n",
      "    \n",
      "    # Freeze all layers except output_layer\n",
      "    train_vars = tf.get_collection(tf.GraphKeys.TRAINABLE_VARIABLES, scope=\"output_layer\")\n",
      "\n",
      "    # For evaluation\n",
      "    X = tf.get_default_graph().get_tensor_by_name(\"input/input_x:0\")\n",
      "    y = tf.get_default_graph().get_tensor_by_name(\"input/label_y:0\")\n",
      "    acc = tf.get_default_graph().get_tensor_by_name(\"accuracy/accuracy:0\")\n",
      "\n",
      "    # Train the output layer only\n",
      "    loss = tf.get_default_graph().get_tensor_by_name(\"cross_entropy/cross_entropy:0\")\n",
      "    y_hat = tf.get_default_graph().get_tensor_by_name(\"output_layer/output_layer/output:0\")\n",
      "    optimizer = tf.train.GradientDescentOptimizer(learning_rate)\n",
      "    training_op = optimizer.minimize(loss, var_list=train_vars)\n",
      "\n",
      "    with tf.Session() as sess:\n",
      "        sess.run(tf.global_variables_initializer())\n",
      "        restore_saver.restore(sess, \"./previous_model/final_model.ckpt\")\n",
      "        vali_acc = sess.run(acc, feed_dict={X: X_test1, y: y_test1})\n",
      "        print(\"Test accuracy from restored model: %.4f\" % vali_acc)\n",
      "DNN(epoch=10, n_neurons=100, learning_rate=0.1, activation=tf.nn.relu, batch_size=100, early_stopping=10, keep_prob=1.00, batch_normalization=True)\n"
     ]
    }
   ],
   "source": [
    "%save MNIST_reuse_model.py 40-43"
   ]
  },
  {
   "cell_type": "code",
   "execution_count": null,
   "metadata": {},
   "outputs": [],
   "source": []
  }
 ],
 "metadata": {
  "kernelspec": {
   "display_name": "Python 3",
   "language": "python",
   "name": "python3"
  },
  "language_info": {
   "codemirror_mode": {
    "name": "ipython",
    "version": 3
   },
   "file_extension": ".py",
   "mimetype": "text/x-python",
   "name": "python",
   "nbconvert_exporter": "python",
   "pygments_lexer": "ipython3",
   "version": "3.6.0"
  }
 },
 "nbformat": 4,
 "nbformat_minor": 2
}
