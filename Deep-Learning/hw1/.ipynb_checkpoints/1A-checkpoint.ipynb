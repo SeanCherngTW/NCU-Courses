{
 "cells": [
  {
   "cell_type": "code",
   "execution_count": 1,
   "metadata": {
    "collapsed": false
   },
   "outputs": [
    {
     "name": "stderr",
     "output_type": "stream",
     "text": [
      "Using TensorFlow backend.\n"
     ]
    }
   ],
   "source": [
    "# coding: utf-8\n",
    "import time\n",
    "import pandas as pd\n",
    "import numpy as np\n",
    "import sklearn.datasets\n",
    "import tensorflow as tf\n",
    "import matplotlib.pyplot as plt\n",
    "import sklearn.model_selection as sk\n",
    "from keras.utils.np_utils import to_categorical   \n",
    "\n",
    "# Read make moon data\n",
    "X, y = sklearn.datasets.make_moons(n_samples=50000, shuffle=True, noise=0.1, random_state=None)"
   ]
  },
  {
   "cell_type": "code",
   "execution_count": 2,
   "metadata": {
    "collapsed": false
   },
   "outputs": [],
   "source": [
    "# Split datasets to 80%-training / 20%-testing\n",
    "X_train, X_test, y_train, y_test = sk.train_test_split(X, y, test_size=0.2)"
   ]
  },
  {
   "cell_type": "code",
   "execution_count": 3,
   "metadata": {
    "collapsed": true
   },
   "outputs": [],
   "source": [
    "# One-hot Encoding\n",
    "y_train = to_categorical(y_train, num_classes=2)\n",
    "y_test = to_categorical(y_test, num_classes=2)"
   ]
  },
  {
   "cell_type": "code",
   "execution_count": 5,
   "metadata": {
    "collapsed": false
   },
   "outputs": [
    {
     "data": {
      "text/plain": [
       "<tf.Tensor 'accuracy_1:0' shape=() dtype=string>"
      ]
     },
     "execution_count": 5,
     "metadata": {},
     "output_type": "execute_result"
    }
   ],
   "source": [
    "with tf.name_scope('input'):\n",
    "    x = tf.placeholder('float', [None, 2], name='input_x')\n",
    "    y = tf.placeholder('float', [None, 2], name='label_y')\n",
    "    \n",
    "with tf.name_scope('weight'):\n",
    "    W = tf.Variable(tf.truncated_normal([2, 2], stddev=0.1), name=\"W\")\n",
    "    \n",
    "with tf.name_scope('bias'):\n",
    "    b = tf.Variable(tf.constant(0.1, shape=[1, 2]), name=\"b\")\n",
    "\n",
    "with tf.name_scope('Wx_plus_b'):\n",
    "    y_hat = tf.nn.sigmoid(tf.matmul(x, W) + b)\n",
    "\n",
    "with tf.name_scope('loss'):\n",
    "    loss_function = tf.reduce_mean(-tf.reduce_sum(y * tf.log(y_hat), reduction_indices=1))\n",
    "tf.summary.scalar('loss', loss_function)\n",
    "\n",
    "with tf.name_scope('train'):\n",
    "    optimizer = tf.train.GradientDescentOptimizer(learning_rate).minimize(loss_function)\n",
    "    \n",
    "with tf.name_scope('accuracy'):\n",
    "    correct_prediction = tf.equal(tf.argmax(y_hat, 1), tf.argmax(y, 1))\n",
    "    accuracy = tf.reduce_mean(tf.cast(correct_prediction, tf.float32))\n",
    "tf.summary.scalar('accuracy', accuracy)"
   ]
  },
  {
   "cell_type": "code",
   "execution_count": 11,
   "metadata": {
    "collapsed": true
   },
   "outputs": [],
   "source": [
    "# Parameters\n",
    "epoch = 30\n",
    "batch_size = 150\n",
    "learning_rate = 0.1\n",
    "nums_example = X_train.shape[0]"
   ]
  },
  {
   "cell_type": "code",
   "execution_count": 12,
   "metadata": {
    "collapsed": false
   },
   "outputs": [
    {
     "name": "stdout",
     "output_type": "stream",
     "text": [
      "Epoch: 0001, loss = 0.163092250, acc = 0.8226\n",
      "Epoch: 0002, loss = 0.042472987, acc = 0.8233\n",
      "Epoch: 0003, loss = 0.025632440, acc = 0.8242\n",
      "Epoch: 0004, loss = 0.018460335, acc = 0.8239\n",
      "Epoch: 0005, loss = 0.014453559, acc = 0.8241\n",
      "Epoch: 0006, loss = 0.011887940, acc = 0.8244\n",
      "Epoch: 0007, loss = 0.010101960, acc = 0.8250\n",
      "Epoch: 0008, loss = 0.008786054, acc = 0.8251\n",
      "Epoch: 0009, loss = 0.007775703, acc = 0.8256\n",
      "Epoch: 0010, loss = 0.006975258, acc = 0.8253\n",
      "Epoch: 0011, loss = 0.006325294, acc = 0.8249\n",
      "Epoch: 0012, loss = 0.005786908, acc = 0.8250\n",
      "Epoch: 0013, loss = 0.005333571, acc = 0.8255\n",
      "Epoch: 0014, loss = 0.004946560, acc = 0.8258\n",
      "Epoch: 0015, loss = 0.004612268, acc = 0.8264\n",
      "Epoch: 0016, loss = 0.004320584, acc = 0.8262\n",
      "Epoch: 0017, loss = 0.004063823, acc = 0.8260\n",
      "Epoch: 0018, loss = 0.003836070, acc = 0.8263\n",
      "Epoch: 0019, loss = 0.003632652, acc = 0.8259\n",
      "Epoch: 0020, loss = 0.003449854, acc = 0.8259\n",
      "Epoch: 0021, loss = 0.003284682, acc = 0.8257\n",
      "Epoch: 0022, loss = 0.003134699, acc = 0.8259\n",
      "Epoch: 0023, loss = 0.002997902, acc = 0.8259\n",
      "Epoch: 0024, loss = 0.002872627, acc = 0.8258\n",
      "Epoch: 0025, loss = 0.002757467, acc = 0.8256\n",
      "Epoch: 0026, loss = 0.002651233, acc = 0.8255\n",
      "Epoch: 0027, loss = 0.002552928, acc = 0.8256\n",
      "Epoch: 0028, loss = 0.002461707, acc = 0.8256\n",
      "Epoch: 0029, loss = 0.002376822, acc = 0.8256\n",
      "Epoch: 0030, loss = 0.002297624, acc = 0.8257\n",
      "Done!\n"
     ]
    }
   ],
   "source": [
    "iteration = 0\n",
    "sess = tf.Session()\n",
    "merged = tf.summary.merge_all()\n",
    "writer = tf.summary.FileWriter(\"2_logs/\", sess.graph)\n",
    "sess.run(tf.global_variables_initializer())\n",
    "saver = tf.train.Saver()\n",
    "\n",
    "for e in range(epoch):\n",
    "    avg_cost = 0.\n",
    "    avg_acc = 0.\n",
    "    total_batch = int(nums_example / batch_size)\n",
    "\n",
    "    for i in range(total_batch):\n",
    "        batch_xs, batch_ys = X_train[i*batch_size:i*batch_size+batch_size,:],\\\n",
    "                                y_train[i*batch_size:i*batch_size+batch_size,:]\n",
    "        _, c = sess.run([optimizer, loss_function], feed_dict={x: batch_xs, y: batch_ys})\n",
    "        avg_cost += c / total_batch\n",
    "\n",
    "        if iteration % 50 == 0:\n",
    "            result = sess.run(merged, feed_dict={x: batch_xs, y: batch_ys})\n",
    "            writer.add_summary(result, iteration)\n",
    "            \n",
    "    file_name = 'regular_training_epoch_%d.ckpt' % (i+1)\n",
    "    save_path = saver.save(sess, \"regular_train/\" + file_name)\n",
    "    print(\"Model saved in path: %s\" % save_path)\n",
    "        \n",
    "    print(\"Epoch: %04d, loss = %.9f, acc = %.4f\" % ((e+1), avg_cost, sess.run(accuracy, feed_dict={x: X_test, y: y_test})))\n",
    "\n",
    "print(\"Done!\")"
   ]
  },
  {
   "cell_type": "code",
   "execution_count": 52,
   "metadata": {
    "collapsed": false
   },
   "outputs": [],
   "source": [
    "def plot_datasets(X, y):\n",
    "    df = pd.DataFrame(dict(x=X[:,0], y=X[:,1], label=y))\n",
    "    colors = {0:'red', 1:'blue'}\n",
    "    fig, ax = plt.subplots()\n",
    "    grouped = df.groupby('label')\n",
    "    for key, group in grouped:\n",
    "        group.plot(ax=ax, kind='scatter', x='x', y='y', label=key, color=colors[key])\n",
    "    plt.show()"
   ]
  },
  {
   "cell_type": "code",
   "execution_count": null,
   "metadata": {
    "collapsed": true
   },
   "outputs": [],
   "source": []
  }
 ],
 "metadata": {
  "kernelspec": {
   "display_name": "Python 3",
   "language": "python",
   "name": "python3"
  },
  "language_info": {
   "codemirror_mode": {
    "name": "ipython",
    "version": 3
   },
   "file_extension": ".py",
   "mimetype": "text/x-python",
   "name": "python",
   "nbconvert_exporter": "python",
   "pygments_lexer": "ipython3",
   "version": "3.6.0"
  }
 },
 "nbformat": 4,
 "nbformat_minor": 2
}
