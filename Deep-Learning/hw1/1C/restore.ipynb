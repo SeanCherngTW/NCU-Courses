{
 "cells": [
  {
   "cell_type": "code",
   "execution_count": 12,
   "metadata": {
    "collapsed": false
   },
   "outputs": [],
   "source": [
    "# coding: utf-8\n",
    "import time\n",
    "import pandas as pd\n",
    "import numpy as np\n",
    "import sklearn.datasets\n",
    "import tensorflow as tf\n",
    "import matplotlib.pyplot as plt\n",
    "import sklearn.model_selection as sk\n",
    "from keras.utils.np_utils import to_categorical"
   ]
  },
  {
   "cell_type": "code",
   "execution_count": 13,
   "metadata": {
    "collapsed": true
   },
   "outputs": [],
   "source": [
    "def prepare_data(data_size=50000):\n",
    "    # Read make moon data\n",
    "    X, y = sklearn.datasets.make_moons(n_samples=data_size, shuffle=True, noise=0.1, random_state=None)\n",
    "    \n",
    "    # Split datasets to 80%-training / 20%-testing\n",
    "    X_train, X_test, y_train, y_test = sk.train_test_split(X, y, test_size=0.2)\n",
    "    \n",
    "    # One-hot Encoding\n",
    "    y_train = to_categorical(y_train, num_classes=2)\n",
    "    y_test = to_categorical(y_test, num_classes=2)\n",
    "    \n",
    "    return X_train, X_test, y_train, y_test"
   ]
  },
  {
   "cell_type": "code",
   "execution_count": 14,
   "metadata": {
    "collapsed": false
   },
   "outputs": [],
   "source": [
    "def logistic_regression():\n",
    "    tf.reset_default_graph()\n",
    "\n",
    "    X_train, X_test, y_train, y_test = prepare_data(50000)\n",
    "        \n",
    "    # Parameters\n",
    "    epoch = 20\n",
    "    batch_size = 500\n",
    "    learning_rate = 0.3\n",
    "    nums_example = X_train.shape[0]\n",
    "    total_batch = int(nums_example / batch_size)\n",
    "\n",
    "    x = tf.placeholder('float', [None, 2], name='input_x')\n",
    "    y = tf.placeholder('float', [None, 2], name='label_y')\n",
    "    W = tf.Variable(tf.truncated_normal([2, 2], stddev=0.1), name=\"W\")\n",
    "    b = tf.Variable(tf.constant(0.1, shape=[1, 2]), name=\"b\")\n",
    "    y_hat = tf.nn.sigmoid(tf.matmul(x, W) + b)\n",
    "\n",
    "    loss_function = tf.reduce_mean(-tf.reduce_sum(y * tf.log(y_hat), reduction_indices=1))\n",
    "    optimizer = tf.train.GradientDescentOptimizer(learning_rate).minimize(loss_function)\n",
    "    correct_prediction = tf.equal(tf.argmax(y_hat, 1), tf.argmax(y, 1))\n",
    "    accuracy = tf.reduce_mean(tf.cast(correct_prediction, tf.float32))\n",
    "    \n",
    "    with tf.Session() as sess:\n",
    "        saver = tf.train.Saver()\n",
    "        file_name = 'regular_training_epoch_16.ckpt'\n",
    "        saver.restore(sess, \"regular_train/\" + file_name)\n",
    "        interrupted_epoch = int(file_name.split('.')[0].split('_')[-1])\n",
    "    \n",
    "        iteration = 0\n",
    "\n",
    "        train_acc_list = []\n",
    "        test_acc_list = []\n",
    "\n",
    "        for e in range(interrupted_epoch, epoch):\n",
    "            avg_cost = 0.\n",
    "            avg_acc = 0.\n",
    "\n",
    "            for i in range(total_batch):\n",
    "                batch_xs, batch_ys = X_train[i*batch_size:i*batch_size+batch_size,:],\\\n",
    "                                        y_train[i*batch_size:i*batch_size+batch_size,:]\n",
    "                _, c = sess.run([optimizer, loss_function], feed_dict={x: batch_xs, y: batch_ys})\n",
    "                avg_cost += c / total_batch\n",
    "\n",
    "            file_name = 'regular_training_epoch_%d.ckpt' % (e+1)\n",
    "            save_path = saver.save(sess, \"regular_train/\" + file_name)\n",
    "            print(\"Model saved in path: %s\" % save_path)\n",
    "\n",
    "            train_acc = sess.run(accuracy, feed_dict={x: X_train, y: y_train})\n",
    "            test_acc = sess.run(accuracy, feed_dict={x: X_test, y: y_test})\n",
    "\n",
    "            train_acc_list.append(train_acc)\n",
    "            test_acc_list.append(test_acc)\n",
    "\n",
    "            print(\"Epoch: %04d, loss = %.9f, train_acc = %.4f\" % ((e+1), avg_cost, train_acc))\n",
    "            print(\"Epoch: %04d, loss = %.9f, test_acc = %.4f\" % ((e+1), avg_cost, test_acc))\n",
    "            print(\"-\")\n",
    "\n",
    "        print(\"Done!\")"
   ]
  },
  {
   "cell_type": "code",
   "execution_count": 15,
   "metadata": {
    "collapsed": false,
    "scrolled": true
   },
   "outputs": [
    {
     "name": "stdout",
     "output_type": "stream",
     "text": [
      "INFO:tensorflow:Restoring parameters from regular_train/regular_training_epoch_16.ckpt\n",
      "Model saved in path: regular_train/regular_training_epoch_17.ckpt\n",
      "Epoch: 0017, loss = 0.004483777, train_acc = 0.8138\n",
      "Epoch: 0017, loss = 0.004483777, test_acc = 0.8190\n",
      "-\n",
      "Model saved in path: regular_train/regular_training_epoch_18.ckpt\n",
      "Epoch: 0018, loss = 0.004233112, train_acc = 0.8140\n",
      "Epoch: 0018, loss = 0.004233112, test_acc = 0.8188\n",
      "-\n",
      "Model saved in path: regular_train/regular_training_epoch_19.ckpt\n",
      "Epoch: 0019, loss = 0.004009160, train_acc = 0.8140\n",
      "Epoch: 0019, loss = 0.004009160, test_acc = 0.8192\n",
      "-\n",
      "Model saved in path: regular_train/regular_training_epoch_20.ckpt\n",
      "Epoch: 0020, loss = 0.003807858, train_acc = 0.8141\n",
      "Epoch: 0020, loss = 0.003807858, test_acc = 0.8189\n",
      "-\n",
      "Done!\n"
     ]
    }
   ],
   "source": [
    "logistic_regression()"
   ]
  },
  {
   "cell_type": "code",
   "execution_count": 17,
   "metadata": {
    "collapsed": false
   },
   "outputs": [
    {
     "name": "stdout",
     "output_type": "stream",
     "text": [
      "The following commands were written to file `restore.py`:\n",
      "\n",
      "import time\n",
      "import pandas as pd\n",
      "import numpy as np\n",
      "import sklearn.datasets\n",
      "import tensorflow as tf\n",
      "import matplotlib.pyplot as plt\n",
      "import sklearn.model_selection as sk\n",
      "from keras.utils.np_utils import to_categorical\n",
      "def prepare_data(data_size=50000):\n",
      "    # Read make moon data\n",
      "    X, y = sklearn.datasets.make_moons(n_samples=data_size, shuffle=True, noise=0.1, random_state=None)\n",
      "    \n",
      "    # Split datasets to 80%-training / 20%-testing\n",
      "    X_train, X_test, y_train, y_test = sk.train_test_split(X, y, test_size=0.2)\n",
      "    \n",
      "    # One-hot Encoding\n",
      "    y_train = to_categorical(y_train, num_classes=2)\n",
      "    y_test = to_categorical(y_test, num_classes=2)\n",
      "    \n",
      "    return X_train, X_test, y_train, y_test\n",
      "def logistic_regression():\n",
      "    tf.reset_default_graph()\n",
      "\n",
      "    X_train, X_test, y_train, y_test = prepare_data(50000)\n",
      "        \n",
      "    # Parameters\n",
      "    epoch = 20\n",
      "    batch_size = 500\n",
      "    learning_rate = 0.3\n",
      "    nums_example = X_train.shape[0]\n",
      "    total_batch = int(nums_example / batch_size)\n",
      "\n",
      "    x = tf.placeholder('float', [None, 2], name='input_x')\n",
      "    y = tf.placeholder('float', [None, 2], name='label_y')\n",
      "    W = tf.Variable(tf.truncated_normal([2, 2], stddev=0.1), name=\"W\")\n",
      "    b = tf.Variable(tf.constant(0.1, shape=[1, 2]), name=\"b\")\n",
      "    y_hat = tf.nn.sigmoid(tf.matmul(x, W) + b)\n",
      "\n",
      "    loss_function = tf.reduce_mean(-tf.reduce_sum(y * tf.log(y_hat), reduction_indices=1))\n",
      "    optimizer = tf.train.GradientDescentOptimizer(learning_rate).minimize(loss_function)\n",
      "    correct_prediction = tf.equal(tf.argmax(y_hat, 1), tf.argmax(y, 1))\n",
      "    accuracy = tf.reduce_mean(tf.cast(correct_prediction, tf.float32))\n",
      "    \n",
      "    with tf.Session() as sess:\n",
      "        saver = tf.train.Saver()\n",
      "        file_name = 'regular_training_epoch_16.ckpt'\n",
      "        saver.restore(sess, \"regular_train/\" + file_name)\n",
      "        interrupted_epoch = int(file_name.split('.')[0].split('_')[-1])\n",
      "    \n",
      "        iteration = 0\n",
      "\n",
      "        train_acc_list = []\n",
      "        test_acc_list = []\n",
      "\n",
      "        for e in range(interrupted_epoch, epoch):\n",
      "            avg_cost = 0.\n",
      "            avg_acc = 0.\n",
      "\n",
      "            for i in range(total_batch):\n",
      "                batch_xs, batch_ys = X_train[i*batch_size:i*batch_size+batch_size,:],                                        y_train[i*batch_size:i*batch_size+batch_size,:]\n",
      "                _, c = sess.run([optimizer, loss_function], feed_dict={x: batch_xs, y: batch_ys})\n",
      "                avg_cost += c / total_batch\n",
      "\n",
      "            file_name = 'regular_training_epoch_%d.ckpt' % (e+1)\n",
      "            save_path = saver.save(sess, \"regular_train/\" + file_name)\n",
      "            print(\"Model saved in path: %s\" % save_path)\n",
      "\n",
      "            train_acc = sess.run(accuracy, feed_dict={x: X_train, y: y_train})\n",
      "            test_acc = sess.run(accuracy, feed_dict={x: X_test, y: y_test})\n",
      "\n",
      "            train_acc_list.append(train_acc)\n",
      "            test_acc_list.append(test_acc)\n",
      "\n",
      "            print(\"Epoch: %04d, loss = %.9f, train_acc = %.4f\" % ((e+1), avg_cost, train_acc))\n",
      "            print(\"Epoch: %04d, loss = %.9f, test_acc = %.4f\" % ((e+1), avg_cost, test_acc))\n",
      "            print(\"-\")\n",
      "\n",
      "        print(\"Done!\")\n",
      "logistic_regression()\n"
     ]
    }
   ],
   "source": [
    "%save restore.py 12-15"
   ]
  },
  {
   "cell_type": "code",
   "execution_count": null,
   "metadata": {
    "collapsed": true
   },
   "outputs": [],
   "source": []
  }
 ],
 "metadata": {
  "kernelspec": {
   "display_name": "Python 3",
   "language": "python",
   "name": "python3"
  },
  "language_info": {
   "codemirror_mode": {
    "name": "ipython",
    "version": 3
   },
   "file_extension": ".py",
   "mimetype": "text/x-python",
   "name": "python",
   "nbconvert_exporter": "python",
   "pygments_lexer": "ipython3",
   "version": "3.6.0"
  }
 },
 "nbformat": 4,
 "nbformat_minor": 2
}
