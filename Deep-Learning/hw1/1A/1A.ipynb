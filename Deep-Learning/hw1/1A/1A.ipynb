{
 "cells": [
  {
   "cell_type": "code",
   "execution_count": 1,
   "metadata": {
    "collapsed": false
   },
   "outputs": [
    {
     "name": "stderr",
     "output_type": "stream",
     "text": [
      "Using TensorFlow backend.\n"
     ]
    }
   ],
   "source": [
    "# coding: utf-8\n",
    "import time\n",
    "import pandas as pd\n",
    "import numpy as np\n",
    "import sklearn.datasets\n",
    "import tensorflow as tf\n",
    "import matplotlib.pyplot as plt\n",
    "import sklearn.model_selection as sk\n",
    "from keras.utils.np_utils import to_categorical"
   ]
  },
  {
   "cell_type": "code",
   "execution_count": 2,
   "metadata": {
    "collapsed": true
   },
   "outputs": [],
   "source": [
    "def prepare_data(data_size=50000):\n",
    "    # Read make moon data\n",
    "    X, y = sklearn.datasets.make_moons(n_samples=data_size, shuffle=True, noise=0.1, random_state=None)\n",
    "    \n",
    "    # Split datasets to 80%-training / 20%-testing\n",
    "    X_train, X_test, y_train, y_test = sk.train_test_split(X, y, test_size=0.2)\n",
    "    \n",
    "    # One-hot Encoding\n",
    "    y_train = to_categorical(y_train, num_classes=2)\n",
    "    y_test = to_categorical(y_test, num_classes=2)\n",
    "    \n",
    "    return X_train, X_test, y_train, y_test"
   ]
  },
  {
   "cell_type": "code",
   "execution_count": 9,
   "metadata": {
    "collapsed": true
   },
   "outputs": [],
   "source": [
    "def logistic_regression():\n",
    "    tf.reset_default_graph()\n",
    "\n",
    "    X_train, X_test, y_train, y_test = prepare_data(50000)\n",
    "    \n",
    "    # Parameters\n",
    "    epoch = 20\n",
    "    batch_size = 500\n",
    "    learning_rate = 0.3\n",
    "    nums_example = X_train.shape[0]\n",
    "    total_batch = int(nums_example / batch_size)\n",
    "\n",
    "    with tf.name_scope('input'):\n",
    "        x = tf.placeholder('float', [None, 2], name='input_x')\n",
    "        y = tf.placeholder('float', [None, 2], name='label_y')\n",
    "\n",
    "    with tf.name_scope('weight'):\n",
    "        W = tf.Variable(tf.truncated_normal([2, 2], stddev=0.1), name=\"W\")\n",
    "\n",
    "    with tf.name_scope('bias'):\n",
    "        b = tf.Variable(tf.constant(0.1, shape=[1, 2]), name=\"b\")\n",
    "\n",
    "    with tf.name_scope('Wx_plus_b'):\n",
    "        y_hat = tf.nn.sigmoid(tf.matmul(x, W) + b)\n",
    "\n",
    "    with tf.name_scope('loss'):\n",
    "        loss_function = tf.reduce_mean(-tf.reduce_sum(y * tf.log(y_hat), reduction_indices=1))\n",
    "    tf.summary.scalar('loss', loss_function)\n",
    "\n",
    "    with tf.name_scope('train'):\n",
    "        optimizer = tf.train.GradientDescentOptimizer(learning_rate).minimize(loss_function)\n",
    "\n",
    "    with tf.name_scope('accuracy'):\n",
    "        correct_prediction = tf.equal(tf.argmax(y_hat, 1), tf.argmax(y, 1))\n",
    "        accuracy = tf.reduce_mean(tf.cast(correct_prediction, tf.float32))\n",
    "    tf.summary.scalar('accuracy', accuracy)\n",
    "    \n",
    "    iteration = 0\n",
    "    sess = tf.Session()\n",
    "    sess.as_default()\n",
    "    merged = tf.summary.merge_all()\n",
    "    writer = tf.summary.FileWriter(\"2_logs/\", sess.graph)\n",
    "    sess.run(tf.global_variables_initializer())\n",
    "    saver = tf.train.Saver()\n",
    "\n",
    "    train_acc_list = []\n",
    "    test_acc_list = []\n",
    "\n",
    "    # try:\n",
    "    for e in range(epoch):\n",
    "        avg_cost = 0.\n",
    "        avg_acc = 0.\n",
    "\n",
    "        for i in range(total_batch):\n",
    "            batch_xs, batch_ys = X_train[i*batch_size:i*batch_size+batch_size,:],\\\n",
    "                                    y_train[i*batch_size:i*batch_size+batch_size,:]\n",
    "\n",
    "#             sess.run(optimizer, feed_dict={x: batch_xs, y: batch_ys})\n",
    "            _, c = sess.run([optimizer, loss_function], feed_dict={x: batch_xs, y: batch_ys})\n",
    "            avg_cost += c / total_batch\n",
    "\n",
    "            if iteration % 50 == 0:\n",
    "                result = sess.run(merged, feed_dict={x: batch_xs, y: batch_ys})\n",
    "\n",
    "#                 summary_str = loss_function.eval(feed_dict={x: batch_xs, y: batch_ys}, session=sess)\n",
    "#                 result = sess.run(merged, feed_dict={x: batch_xs, y: batch_ys})\n",
    "                writer.add_summary(result, iteration)\n",
    "\n",
    "    #     file_name = 'regular_training_epoch_%d.ckpt' % (i+1)\n",
    "    #     save_path = saver.save(sess, \"regular_train/\" + file_name)\n",
    "    #     print(\"Model saved in path: %s\" % save_path)\n",
    "\n",
    "        train_acc = sess.run(accuracy, feed_dict={x: X_train, y: y_train})\n",
    "        test_acc = sess.run(accuracy, feed_dict={x: X_test, y: y_test})\n",
    "\n",
    "        train_acc_list.append(train_acc)\n",
    "        test_acc_list.append(test_acc)\n",
    "\n",
    "        print(\"Epoch: %04d, loss = %.9f, train_acc = %.4f\" % ((e+1), avg_cost, train_acc))\n",
    "        print(\"Epoch: %04d, loss = %.9f, test_acc = %.4f\" % ((e+1), avg_cost, test_acc))\n",
    "        print(\"-\")\n",
    "\n",
    "    # except:\n",
    "    #     print('An error occurs!')\n",
    "    #     now_time = int(time.time())\n",
    "    #     file_name = '%d.ckpt' % now_time\n",
    "    #     save_path = saver.save(sess, \"interrupted_train/\" + file_name)\n",
    "    #     print(\"Model saved in path: %s\" % save_path)\n",
    "\n",
    "    print(\"Done!\")"
   ]
  },
  {
   "cell_type": "code",
   "execution_count": 11,
   "metadata": {
    "collapsed": false,
    "scrolled": true
   },
   "outputs": [
    {
     "name": "stdout",
     "output_type": "stream",
     "text": [
      "Epoch: 0001, loss = 0.176353730, train_acc = 0.8086\n",
      "Epoch: 0001, loss = 0.176353730, test_acc = 0.8063\n",
      "-\n",
      "Epoch: 0002, loss = 0.046398028, train_acc = 0.8122\n",
      "Epoch: 0002, loss = 0.046398028, test_acc = 0.8108\n",
      "-\n",
      "Epoch: 0003, loss = 0.028061946, train_acc = 0.8138\n",
      "Epoch: 0003, loss = 0.028061946, test_acc = 0.8123\n",
      "-\n",
      "Epoch: 0004, loss = 0.020236267, train_acc = 0.8147\n",
      "Epoch: 0004, loss = 0.020236267, test_acc = 0.8134\n",
      "-\n",
      "Epoch: 0005, loss = 0.015858054, train_acc = 0.8156\n",
      "Epoch: 0005, loss = 0.015858054, test_acc = 0.8139\n",
      "-\n",
      "Epoch: 0006, loss = 0.013051652, train_acc = 0.8163\n",
      "Epoch: 0006, loss = 0.013051652, test_acc = 0.8139\n",
      "-\n",
      "Epoch: 0007, loss = 0.011096467, train_acc = 0.8168\n",
      "Epoch: 0007, loss = 0.011096467, test_acc = 0.8140\n",
      "-\n",
      "Epoch: 0008, loss = 0.009654956, train_acc = 0.8170\n",
      "Epoch: 0008, loss = 0.009654956, test_acc = 0.8144\n",
      "-\n",
      "Epoch: 0009, loss = 0.008547570, train_acc = 0.8172\n",
      "Epoch: 0009, loss = 0.008547570, test_acc = 0.8145\n",
      "-\n",
      "Epoch: 0010, loss = 0.007669855, train_acc = 0.8173\n",
      "Epoch: 0010, loss = 0.007669855, test_acc = 0.8149\n",
      "-\n",
      "Epoch: 0011, loss = 0.006956870, train_acc = 0.8175\n",
      "Epoch: 0011, loss = 0.006956870, test_acc = 0.8152\n",
      "-\n",
      "Epoch: 0012, loss = 0.006366089, train_acc = 0.8177\n",
      "Epoch: 0012, loss = 0.006366089, test_acc = 0.8154\n",
      "-\n",
      "Epoch: 0013, loss = 0.005868488, train_acc = 0.8180\n",
      "Epoch: 0013, loss = 0.005868488, test_acc = 0.8158\n",
      "-\n",
      "Epoch: 0014, loss = 0.005443565, train_acc = 0.8180\n",
      "Epoch: 0014, loss = 0.005443565, test_acc = 0.8158\n",
      "-\n",
      "Epoch: 0015, loss = 0.005076446, train_acc = 0.8182\n",
      "Epoch: 0015, loss = 0.005076446, test_acc = 0.8159\n",
      "-\n",
      "Epoch: 0016, loss = 0.004756056, train_acc = 0.8186\n",
      "Epoch: 0016, loss = 0.004756056, test_acc = 0.8159\n",
      "-\n",
      "Epoch: 0017, loss = 0.004473978, train_acc = 0.8186\n",
      "Epoch: 0017, loss = 0.004473978, test_acc = 0.8164\n",
      "-\n",
      "Epoch: 0018, loss = 0.004223713, train_acc = 0.8188\n",
      "Epoch: 0018, loss = 0.004223713, test_acc = 0.8163\n",
      "-\n",
      "Epoch: 0019, loss = 0.004000157, train_acc = 0.8188\n",
      "Epoch: 0019, loss = 0.004000157, test_acc = 0.8162\n",
      "-\n",
      "Epoch: 0020, loss = 0.003799234, train_acc = 0.8188\n",
      "Epoch: 0020, loss = 0.003799234, test_acc = 0.8161\n",
      "-\n",
      "Done!\n"
     ]
    }
   ],
   "source": [
    "logistic_regression()"
   ]
  },
  {
   "cell_type": "code",
   "execution_count": 7,
   "metadata": {
    "collapsed": true
   },
   "outputs": [],
   "source": [
    "def show_train_history(training, testing):\n",
    "    max_acc = max(testing)\n",
    "    index = testing.index(max_acc)\n",
    "    annotate = 'max_test_acc = %.4f at epoch %d' % (max_acc, index + 1)\n",
    "    plt.plot(training)\n",
    "    plt.plot(testing)\n",
    "#     plt.annotate(annotate, xy=(index, max_acc), xytext=(index, max_acc + 0.005), arrowprops=dict(facecolor='black', shrink=0.01))\n",
    "    plt.title('Train History')\n",
    "    plt.xlabel('Epoch')\n",
    "    plt.ylabel('Acc')\n",
    "    plt.legend(['Training', 'Testing'], loc='upper left')\n",
    "    plt.show()"
   ]
  },
  {
   "cell_type": "code",
   "execution_count": 8,
   "metadata": {
    "collapsed": false
   },
   "outputs": [
    {
     "data": {
      "image/png": "[encoded data removed]",
      "text/plain": [
       "<matplotlib.figure.Figure at 0x127d25080>"
      ]
     },
     "metadata": {},
     "output_type": "display_data"
    }
   ],
   "source": [
    "show_train_history(train_acc_list, test_acc_list)"
   ]
  },
  {
   "cell_type": "code",
   "execution_count": 9,
   "metadata": {
    "collapsed": false
   },
   "outputs": [],
   "source": [
    "def plot_datasets(X, y):\n",
    "    df = pd.DataFrame(dict(x=X[:,0], y=X[:,1], label=y))\n",
    "    colors = plot_datasets{0:'red', 1:'blue'}\n",
    "    fig, ax = plt.subplots()\n",
    "    grouped = df.groupby('label')\n",
    "    for key, group in grouped:\n",
    "        group.plot(ax=ax, kind='scatter', x='x', y='y', label=key, color=colors[key])\n",
    "    plt.show()"
   ]
  },
  {
   "cell_type": "code",
   "execution_count": null,
   "metadata": {
    "collapsed": true
   },
   "outputs": [],
   "source": []
  }
 ],
 "metadata": {
  "kernelspec": {
   "display_name": "Python 3",
   "language": "python",
   "name": "python3"
  },
  "language_info": {
   "codemirror_mode": {
    "name": "ipython",
    "version": 3
   },
   "file_extension": ".py",
   "mimetype": "text/x-python",
   "name": "python",
   "nbconvert_exporter": "python",
   "pygments_lexer": "ipython3",
   "version": "3.6.0"
  }
 },
 "nbformat": 4,
 "nbformat_minor": 2
}
