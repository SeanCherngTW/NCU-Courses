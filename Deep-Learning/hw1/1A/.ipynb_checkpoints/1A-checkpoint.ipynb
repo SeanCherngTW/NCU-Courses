{
 "cells": [
  {
   "cell_type": "code",
   "execution_count": 45,
   "metadata": {
    "collapsed": false
   },
   "outputs": [],
   "source": [
    "# coding: utf-8\n",
    "import time\n",
    "import pandas as pd\n",
    "import numpy as np\n",
    "import sklearn.datasets\n",
    "import tensorflow as tf\n",
    "import matplotlib.pyplot as plt\n",
    "import sklearn.model_selection as sk\n",
    "from keras.utils.np_utils import to_categorical"
   ]
  },
  {
   "cell_type": "code",
   "execution_count": 46,
   "metadata": {
    "collapsed": true
   },
   "outputs": [],
   "source": [
    "def prepare_data(data_size=50000):\n",
    "    # Read make moon data\n",
    "    X, y = sklearn.datasets.make_moons(n_samples=data_size, shuffle=True, noise=0.1, random_state=None)\n",
    "    \n",
    "    # Split datasets to 80%-training / 20%-testing\n",
    "    X_train, X_test, y_train, y_test = sk.train_test_split(X, y, test_size=0.2)\n",
    "    \n",
    "    # One-hot Encoding\n",
    "    y_train = to_categorical(y_train, num_classes=2)\n",
    "    y_test = to_categorical(y_test, num_classes=2)\n",
    "    \n",
    "    return X_train, X_test, y_train, y_test"
   ]
  },
  {
   "cell_type": "code",
   "execution_count": 53,
   "metadata": {
    "collapsed": true
   },
   "outputs": [],
   "source": [
    "def logistic_regression():\n",
    "    tf.reset_default_graph()\n",
    "\n",
    "    X_train, X_test, y_train, y_test = prepare_data(50000)\n",
    "    \n",
    "    # Parameters\n",
    "    epoch = 20\n",
    "    batch_size = 500\n",
    "    learning_rate = 0.3\n",
    "    nums_example = X_train.shape[0]\n",
    "    total_batch = int(nums_example / batch_size)\n",
    "\n",
    "    x = tf.placeholder('float', [None, 2], name='input_x')\n",
    "    y = tf.placeholder('float', [None, 2], name='label_y')\n",
    "    W = tf.Variable(tf.truncated_normal([2, 2], stddev=0.1), name=\"W\")\n",
    "    b = tf.Variable(tf.constant(0.1, shape=[1, 2]), name=\"b\")\n",
    "    y_hat = tf.nn.sigmoid(tf.matmul(x, W) + b)\n",
    "\n",
    "    loss_function = tf.reduce_mean(-tf.reduce_sum(y * tf.log(y_hat), reduction_indices=1))\n",
    "    optimizer = tf.train.GradientDescentOptimizer(learning_rate).minimize(loss_function)\n",
    "    correct_prediction = tf.equal(tf.argmax(y_hat, 1), tf.argmax(y, 1))\n",
    "    accuracy = tf.reduce_mean(tf.cast(correct_prediction, tf.float32))\n",
    "    \n",
    "    iteration = 0\n",
    "    sess = tf.Session()\n",
    "    merged = tf.summary.merge_all()\n",
    "    sess.run(tf.global_variables_initializer())\n",
    "\n",
    "    train_acc_list = []\n",
    "    test_acc_list = []\n",
    "\n",
    "    for e in range(epoch):\n",
    "        avg_cost = 0.\n",
    "        avg_acc = 0.\n",
    "\n",
    "        for i in range(total_batch):\n",
    "            batch_xs, batch_ys = X_train[i*batch_size:i*batch_size+batch_size,:],\\\n",
    "                                    y_train[i*batch_size:i*batch_size+batch_size,:]\n",
    "            _, c = sess.run([optimizer, loss_function], feed_dict={x: batch_xs, y: batch_ys})\n",
    "            avg_cost += c / total_batch\n",
    "\n",
    "        train_acc = sess.run(accuracy, feed_dict={x: X_train, y: y_train})\n",
    "        test_acc = sess.run(accuracy, feed_dict={x: X_test, y: y_test})\n",
    "\n",
    "        train_acc_list.append(train_acc)\n",
    "        test_acc_list.append(test_acc)\n",
    "\n",
    "        print(\"Epoch: %04d, loss = %.9f, train_acc = %.4f\" % ((e+1), avg_cost, train_acc))\n",
    "        print(\"Epoch: %04d, loss = %.9f, test_acc = %.4f\" % ((e+1), avg_cost, test_acc))\n",
    "        print(\"-\")\n",
    "\n",
    "    print(\"Done!\")"
   ]
  },
  {
   "cell_type": "code",
   "execution_count": 54,
   "metadata": {
    "collapsed": false,
    "scrolled": true
   },
   "outputs": [
    {
     "name": "stdout",
     "output_type": "stream",
     "text": [
      "Epoch: 0001, loss = 0.177608088, train_acc = 0.8042\n",
      "Epoch: 0001, loss = 0.177608088, test_acc = 0.8058\n",
      "-\n",
      "Epoch: 0002, loss = 0.046559489, train_acc = 0.8086\n",
      "Epoch: 0002, loss = 0.046559489, test_acc = 0.8099\n",
      "-\n",
      "Epoch: 0003, loss = 0.028105979, train_acc = 0.8106\n",
      "Epoch: 0003, loss = 0.028105979, test_acc = 0.8111\n",
      "-\n",
      "Epoch: 0004, loss = 0.020249647, train_acc = 0.8116\n",
      "Epoch: 0004, loss = 0.020249647, test_acc = 0.8116\n",
      "-\n",
      "Epoch: 0005, loss = 0.015860076, train_acc = 0.8125\n",
      "Epoch: 0005, loss = 0.015860076, test_acc = 0.8124\n",
      "-\n",
      "Epoch: 0006, loss = 0.013048723, train_acc = 0.8132\n",
      "Epoch: 0006, loss = 0.013048723, test_acc = 0.8129\n",
      "-\n",
      "Epoch: 0007, loss = 0.011091236, train_acc = 0.8134\n",
      "Epoch: 0007, loss = 0.011091236, test_acc = 0.8139\n",
      "-\n",
      "Epoch: 0008, loss = 0.009648650, train_acc = 0.8137\n",
      "Epoch: 0008, loss = 0.009648650, test_acc = 0.8137\n",
      "-\n",
      "Epoch: 0009, loss = 0.008540805, train_acc = 0.8140\n",
      "Epoch: 0009, loss = 0.008540805, test_acc = 0.8136\n",
      "-\n",
      "Epoch: 0010, loss = 0.007662953, train_acc = 0.8141\n",
      "Epoch: 0010, loss = 0.007662953, test_acc = 0.8139\n",
      "-\n",
      "Epoch: 0011, loss = 0.006950004, train_acc = 0.8144\n",
      "Epoch: 0011, loss = 0.006950004, test_acc = 0.8139\n",
      "-\n",
      "Epoch: 0012, loss = 0.006359359, train_acc = 0.8146\n",
      "Epoch: 0012, loss = 0.006359359, test_acc = 0.8141\n",
      "-\n",
      "Epoch: 0013, loss = 0.005861939, train_acc = 0.8148\n",
      "Epoch: 0013, loss = 0.005861939, test_acc = 0.8144\n",
      "-\n",
      "Epoch: 0014, loss = 0.005437234, train_acc = 0.8149\n",
      "Epoch: 0014, loss = 0.005437234, test_acc = 0.8149\n",
      "-\n",
      "Epoch: 0015, loss = 0.005070341, train_acc = 0.8150\n",
      "Epoch: 0015, loss = 0.005070341, test_acc = 0.8149\n",
      "-\n",
      "Epoch: 0016, loss = 0.004750171, train_acc = 0.8152\n",
      "Epoch: 0016, loss = 0.004750171, test_acc = 0.8147\n",
      "-\n",
      "Epoch: 0017, loss = 0.004468318, train_acc = 0.8153\n",
      "Epoch: 0017, loss = 0.004468318, test_acc = 0.8149\n",
      "-\n",
      "Epoch: 0018, loss = 0.004218271, train_acc = 0.8154\n",
      "Epoch: 0018, loss = 0.004218271, test_acc = 0.8150\n",
      "-\n",
      "Epoch: 0019, loss = 0.003994920, train_acc = 0.8155\n",
      "Epoch: 0019, loss = 0.003994920, test_acc = 0.8151\n",
      "-\n",
      "Epoch: 0020, loss = 0.003794190, train_acc = 0.8156\n",
      "Epoch: 0020, loss = 0.003794190, test_acc = 0.8150\n",
      "-\n",
      "Done!\n"
     ]
    }
   ],
   "source": [
    "logistic_regression()"
   ]
  },
  {
   "cell_type": "code",
   "execution_count": null,
   "metadata": {
    "collapsed": true
   },
   "outputs": [],
   "source": []
  }
 ],
 "metadata": {
  "kernelspec": {
   "display_name": "Python 3",
   "language": "python",
   "name": "python3"
  },
  "language_info": {
   "codemirror_mode": {
    "name": "ipython",
    "version": 3
   },
   "file_extension": ".py",
   "mimetype": "text/x-python",
   "name": "python",
   "nbconvert_exporter": "python",
   "pygments_lexer": "ipython3",
   "version": "3.6.0"
  }
 },
 "nbformat": 4,
 "nbformat_minor": 2
}
