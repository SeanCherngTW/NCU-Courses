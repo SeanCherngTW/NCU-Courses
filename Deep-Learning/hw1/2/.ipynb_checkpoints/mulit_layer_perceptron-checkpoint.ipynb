{
 "cells": [
  {
   "cell_type": "code",
   "execution_count": 51,
   "metadata": {
    "collapsed": false
   },
   "outputs": [],
   "source": [
    "# coding: utf-8\n",
    "import time\n",
    "import tensorflow as tf\n",
    "import tensorflow.examples.tutorials.mnist.input_data as input_data\n",
    "import matplotlib.pyplot as plt"
   ]
  },
  {
   "cell_type": "code",
   "execution_count": 52,
   "metadata": {
    "collapsed": false
   },
   "outputs": [],
   "source": [
    "def add_layer(input_dim, output_dim, inputs, name, activation_function=None):\n",
    "    with tf.name_scope(name):\n",
    "        with tf.name_scope('weight'):\n",
    "            W = tf.Variable(tf.truncated_normal([input_dim, output_dim], stddev=0.1), name=\"W\")\n",
    "            tf.summary.histogram(name + '/weight', W)\n",
    "        with tf.name_scope('bias'):\n",
    "            b = tf.Variable(tf.constant(0.1, shape=[1, output_dim]), name=\"b\")\n",
    "            tf.summary.histogram(name + '/bias', b)\n",
    "        with tf.name_scope('Wx_plus_b'):\n",
    "            Wx_plus_b = tf.add(tf.matmul(inputs, W), b)\n",
    "        if activation_function is None:\n",
    "            outputs = Wx_plus_b\n",
    "        else:\n",
    "            outputs = activation_function(Wx_plus_b)\n",
    "        tf.summary.histogram(name + '/output', outputs)\n",
    "        return outputs"
   ]
  },
  {
   "cell_type": "code",
   "execution_count": 53,
   "metadata": {
    "collapsed": false
   },
   "outputs": [],
   "source": [
    "def mlp(restore_model_name=None):\n",
    "    tf.reset_default_graph()\n",
    "\n",
    "    # Read mnist data\n",
    "    mnist = input_data.read_data_sets(\"MNIST_data/\", one_hot=True)\n",
    "\n",
    "    with tf.name_scope('input'):\n",
    "        # Inputs\n",
    "        X = tf.placeholder('float', [None, 784], name='input_x')\n",
    "        # Labels\n",
    "        y = tf.placeholder('float', [None, 10], name='label_y')\n",
    "        \n",
    "    # Hidden Layer\n",
    "    h1 = add_layer(input_dim=784, output_dim=1024, inputs=X, name='hidden_layer_1', activation_function=tf.nn.relu)\n",
    "    # Output Layer\n",
    "    y_hat = add_layer(input_dim=1024, output_dim=10, inputs=h1, name='output_layer', activation_function=tf.nn.softmax)\n",
    "    with tf.name_scope('loss'):\n",
    "        loss_function = -tf.reduce_sum(y * tf.log(y_hat))\n",
    "        tf.summary.scalar('loss', loss_function)\n",
    "\n",
    "    with tf.name_scope('train'):\n",
    "        optimizer = tf.train.AdamOptimizer(learning_rate=0.001).minimize(loss_function)\n",
    "\n",
    "    with tf.name_scope('accuracy'):\n",
    "        with tf.name_scope('correction_prediction'):\n",
    "            correct_prediction_count = tf.equal(tf.argmax(y, 1), tf.argmax(y_hat, 1))\n",
    "        with tf.name_scope('accuracy'):\n",
    "            acc = tf.reduce_mean(tf.cast(correct_prediction_count, 'float'))\n",
    "    tf.summary.scalar('accuracy', acc)\n",
    "    \n",
    "    epoch = 10\n",
    "    batch_size = 150\n",
    "    batch = int(mnist.train.num_examples / batch_size)\n",
    "\n",
    "    acc_training_list = []\n",
    "    acc_validation_list = []\n",
    "    acc_testing_list = []\n",
    "\n",
    "    saver = tf.train.Saver()\n",
    "    iteration = 0\n",
    "    start_epoch = 0\n",
    "\n",
    "    with tf.Session() as sess:\n",
    "        if restore_model_name:\n",
    "            saver.restore(sess, \"regular_train/\" + restore_model_name)\n",
    "            start_epoch = int(restore_model_name.split('.')[0].split('_')[-1])\n",
    "        else:\n",
    "            sess.run(tf.global_variables_initializer())\n",
    "            \n",
    "        merged = tf.summary.merge_all()    \n",
    "        writer = tf.summary.FileWriter(\"logs/\", sess.graph)\n",
    "        for i in range(start_epoch, epoch):\n",
    "            for _ in range(batch):\n",
    "                iteration += 1\n",
    "                batch_x, batch_y = mnist.train.next_batch(batch_size)\n",
    "                sess.run(optimizer, feed_dict={X: batch_x, y: batch_y})\n",
    "                if iteration % 50 == 0:\n",
    "                    result = sess.run(merged, feed_dict={X: mnist.test.images, y: mnist.test.labels})\n",
    "                    writer.add_summary(result, iteration)\n",
    "\n",
    "            acc_training = sess.run(acc, feed_dict={X: mnist.train.images, y: mnist.train.labels})\n",
    "            acc_testing = sess.run(acc, feed_dict={X: mnist.test.images, y: mnist.test.labels})\n",
    "\n",
    "            acc_training_list.append(acc_training)\n",
    "            acc_testing_list.append(acc_testing)\n",
    "\n",
    "            file_name = 'regular_training_epoch_%d.ckpt' % (i+1)\n",
    "            save_path = saver.save(sess, \"regular_train/\" + file_name)\n",
    "            print(\"Model saved in path: %s\" % save_path)\n",
    "\n",
    "            print(\"Epoch: %2d, acc_training: %.4f, acc_testing: %.4f\" % (i+1, acc_training, acc_testing))    "
   ]
  },
  {
   "cell_type": "code",
   "execution_count": null,
   "metadata": {
    "collapsed": false
   },
   "outputs": [
    {
     "name": "stdout",
     "output_type": "stream",
     "text": [
      "Extracting MNIST_data/train-images-idx3-ubyte.gz\n",
      "Extracting MNIST_data/train-labels-idx1-ubyte.gz\n",
      "Extracting MNIST_data/t10k-images-idx3-ubyte.gz\n",
      "Extracting MNIST_data/t10k-labels-idx1-ubyte.gz\n"
     ]
    }
   ],
   "source": [
    "# Training\n",
    "mlp()\n",
    "\n",
    "# Restore and continue a training\n",
    "mlp(restore_model_name='regular_training_epoch_6.ckpt')"
   ]
  },
  {
   "cell_type": "code",
   "execution_count": 45,
   "metadata": {
    "collapsed": false
   },
   "outputs": [
    {
     "name": "stdout",
     "output_type": "stream",
     "text": [
      "The following commands were written to file `multi_layer_perceptron.py`:\n",
      "\n",
      "import time\n",
      "import tensorflow as tf\n",
      "import tensorflow.examples.tutorials.mnist.input_data as input_data\n",
      "import matplotlib.pyplot as plt\n",
      "def add_layer(input_dim, output_dim, inputs, name, activation_function=None):\n",
      "    with tf.name_scope(name):\n",
      "        with tf.name_scope('weight'):\n",
      "            W = tf.Variable(tf.truncated_normal([input_dim, output_dim], stddev=0.1), name=\"W\")\n",
      "            tf.summary.histogram(name + '/weight', W)\n",
      "        with tf.name_scope('bias'):\n",
      "            b = tf.Variable(tf.constant(0.1, shape=[1, output_dim]), name=\"b\")\n",
      "            tf.summary.histogram(name + '/bias', b)\n",
      "        with tf.name_scope('Wx_plus_b'):\n",
      "            Wx_plus_b = tf.add(tf.matmul(inputs, W), b)\n",
      "        if activation_function is None:\n",
      "            outputs = Wx_plus_b\n",
      "        else:\n",
      "            outputs = activation_function(Wx_plus_b)\n",
      "        tf.summary.histogram(name + '/output', outputs)\n",
      "        return outputs\n",
      "def mlp(restore_model_name=None):\n",
      "    tf.reset_default_graph()\n",
      "\n",
      "    # Read mnist data\n",
      "    mnist = input_data.read_data_sets(\"MNIST_data/\", one_hot=True)\n",
      "\n",
      "    with tf.name_scope('input'):\n",
      "        # Inputs\n",
      "        X = tf.placeholder('float', [None, 784], name='input_x')\n",
      "        # Labels\n",
      "        y = tf.placeholder('float', [None, 10], name='label_y')\n",
      "        \n",
      "    # Hidden Layer\n",
      "    h1 = add_layer(input_dim=784, output_dim=1024, inputs=X, name='hidden_layer_1', activation_function=tf.nn.relu)\n",
      "    # Output Layer\n",
      "    y_hat = add_layer(input_dim=1024, output_dim=10, inputs=h1, name='output_layer', activation_function=tf.nn.softmax)\n",
      "    with tf.name_scope('loss'):\n",
      "        loss_function = -tf.reduce_sum(y * tf.log(y_hat))\n",
      "        tf.summary.scalar('loss', loss_function)\n",
      "\n",
      "    with tf.name_scope('train'):\n",
      "        optimizer = tf.train.AdamOptimizer(learning_rate=0.001).minimize(loss_function)\n",
      "\n",
      "    with tf.name_scope('accuracy'):\n",
      "        with tf.name_scope('correction_prediction'):\n",
      "            correct_prediction_count = tf.equal(tf.argmax(y, 1), tf.argmax(y_hat, 1))\n",
      "        with tf.name_scope('accuracy'):\n",
      "            acc = tf.reduce_mean(tf.cast(correct_prediction_count, 'float'))\n",
      "    tf.summary.scalar('accuracy', acc)\n",
      "    \n",
      "    epoch = 10\n",
      "    batch_size = 150\n",
      "    batch = int(mnist.train.num_examples / batch_size)\n",
      "\n",
      "    acc_training_list = []\n",
      "    acc_validation_list = []\n",
      "    acc_testing_list = []\n",
      "\n",
      "    saver = tf.train.Saver()\n",
      "    iteration = 0\n",
      "    start_epoch = 0\n",
      "\n",
      "    with tf.Session() as sess:\n",
      "        if restore_model_name:\n",
      "            saver.restore(sess, \"regular_train/\" + restore_model_name)\n",
      "            start_epoch = int(restore_model_name.split('.')[0].split('_')[-1])\n",
      "        else:\n",
      "            sess.run(tf.global_variables_initializer())\n",
      "            \n",
      "        merged = tf.summary.merge_all()    \n",
      "        writer = tf.summary.FileWriter(\"logs/\", sess.graph)\n",
      "        for i in range(start_epoch, epoch):\n",
      "            for _ in range(batch):\n",
      "                iteration += 1\n",
      "                batch_x, batch_y = mnist.train.next_batch(batch_size)\n",
      "                sess.run(optimizer, feed_dict={X: batch_x, y: batch_y})\n",
      "                if iteration % 50 == 0:\n",
      "                    result = sess.run(merged, feed_dict={X: batch_x, y: batch_y})\n",
      "                    writer.add_summary(result, iteration)\n",
      "\n",
      "            acc_training = sess.run(acc, feed_dict={X: mnist.train.images, y: mnist.train.labels})\n",
      "            acc_testing = sess.run(acc, feed_dict={X: mnist.test.images, y: mnist.test.labels})\n",
      "\n",
      "            acc_training_list.append(acc_training)\n",
      "            acc_testing_list.append(acc_testing)\n",
      "\n",
      "            file_name = 'regular_training_epoch_%d.ckpt' % (i+1)\n",
      "            save_path = saver.save(sess, \"regular_train/\" + file_name)\n",
      "            print(\"Model saved in path: %s\" % save_path)\n",
      "\n",
      "            print(\"Epoch: %2d, acc_training: %.4f, acc_testing: %.4f\" % (i+1, acc_training, acc_testing))    \n",
      "# Training\n",
      "mlp()\n",
      "\n",
      "# Restore and continue a training\n",
      "mlp(restore_model_name='regular_training_epoch_6.ckpt')\n"
     ]
    }
   ],
   "source": [
    "%save multi_layer_perceptron.py 51-54"
   ]
  },
  {
   "cell_type": "code",
   "execution_count": null,
   "metadata": {
    "collapsed": true
   },
   "outputs": [],
   "source": []
  }
 ],
 "metadata": {
  "kernelspec": {
   "display_name": "Python 3",
   "language": "python",
   "name": "python3"
  },
  "language_info": {
   "codemirror_mode": {
    "name": "ipython",
    "version": 3
   },
   "file_extension": ".py",
   "mimetype": "text/x-python",
   "name": "python",
   "nbconvert_exporter": "python",
   "pygments_lexer": "ipython3",
   "version": "3.6.0"
  }
 },
 "nbformat": 4,
 "nbformat_minor": 2
}
